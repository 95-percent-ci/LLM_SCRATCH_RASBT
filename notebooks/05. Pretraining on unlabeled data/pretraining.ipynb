{
 "cells": [
  {
   "cell_type": "markdown",
   "id": "2ec6e902",
   "metadata": {},
   "source": [
    "# 5. Pretraining on UnLabeled data"
   ]
  },
  {
   "cell_type": "code",
   "execution_count": null,
   "id": "266eb832",
   "metadata": {},
   "outputs": [],
   "source": [
    "from importlib.metadata import version\n",
    "\n",
    "pkgs = [\"matplotlib\", \"numpy\", \"tiktoken\", \"torch\", \"tensorflow\"]\n",
    "\n",
    "for pkg in pkgs:\n",
    "    print(f\"{pkg}: {version(pkg)}\")"
   ]
  },
  {
   "cell_type": "markdown",
   "id": "793bd5b7",
   "metadata": {},
   "source": [
    "## 5.1. Evaluating generative text models"
   ]
  },
  {
   "cell_type": "markdown",
   "id": "d98defb1",
   "metadata": {},
   "source": [
    "### 5.1.1. Using GPT to generate Text"
   ]
  },
  {
   "cell_type": "code",
   "execution_count": 3,
   "id": "187397e5",
   "metadata": {},
   "outputs": [],
   "source": [
    "GPT_CONFIG_124M = {\n",
    "    \"vocab_size\": 50257,  # Vocabulary size\n",
    "    \"context_length\": 256,  # Context length\n",
    "    \"emb_dim\": 768,  # Embedding dimension\n",
    "    \"n_heads\": 12,  # Number of attention heads\n",
    "    \"n_layers\": 12,  # Number of layers\n",
    "    \"drop_rate\": 0.1,  # Dropout rate\n",
    "    \"qkv_bias\": False,  # Query-Key-Value bias\n",
    "}"
   ]
  },
  {
   "cell_type": "code",
   "execution_count": null,
   "id": "098c4d98",
   "metadata": {},
   "outputs": [],
   "source": []
  },
  {
   "cell_type": "markdown",
   "id": "538a5007",
   "metadata": {},
   "source": []
  }
 ],
 "metadata": {
  "kernelspec": {
   "display_name": ".venv",
   "language": "python",
   "name": "python3"
  },
  "language_info": {
   "codemirror_mode": {
    "name": "ipython",
    "version": 3
   },
   "file_extension": ".py",
   "mimetype": "text/x-python",
   "name": "python",
   "nbconvert_exporter": "python",
   "pygments_lexer": "ipython3",
   "version": "3.11.11"
  }
 },
 "nbformat": 4,
 "nbformat_minor": 5
}
